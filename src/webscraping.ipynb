{
 "cells": [
  {
   "cell_type": "code",
   "execution_count": 13,
   "metadata": {},
   "outputs": [
    {
     "name": "stdout",
     "output_type": "stream",
     "text": [
      "[]\n"
     ]
    }
   ],
   "source": [
    "import requests\n",
    "import pandas as pd\n",
    "from bs4 import BeautifulSoup\n",
    "\n",
    "data = []\n",
    "\n",
    "for date in range(2010,2011):\n",
    "    url=f'https://ourworldindata.org/grapher/electric-car-sales-share?tab=table&time=2012'\n",
    "    response = requests.get(url)\n",
    "    soup = BeautifulSoup(response.content, 'html.parser')\n",
    "    print(soup.find_all(class_='markdown-text-wrap__line'))\n",
    "\n"
   ]
  },
  {
   "cell_type": "code",
   "execution_count": 18,
   "metadata": {},
   "outputs": [
    {
     "name": "stdout",
     "output_type": "stream",
     "text": [
      "Collecting selenium\n",
      "  Downloading selenium-4.22.0-py3-none-any.whl.metadata (7.0 kB)\n",
      "Requirement already satisfied: urllib3<3,>=1.26 in c:\\users\\fx516\\desktop\\codes\\datanalist\\datanalist\\lib\\site-packages (from urllib3[socks]<3,>=1.26->selenium) (2.2.2)\n",
      "Collecting trio~=0.17 (from selenium)\n",
      "  Downloading trio-0.26.0-py3-none-any.whl.metadata (8.8 kB)\n",
      "Collecting trio-websocket~=0.9 (from selenium)\n",
      "  Downloading trio_websocket-0.11.1-py3-none-any.whl.metadata (4.7 kB)\n",
      "Requirement already satisfied: certifi>=2021.10.8 in c:\\users\\fx516\\desktop\\codes\\datanalist\\datanalist\\lib\\site-packages (from selenium) (2024.6.2)\n",
      "Collecting typing_extensions>=4.9.0 (from selenium)\n",
      "  Downloading typing_extensions-4.12.2-py3-none-any.whl.metadata (3.0 kB)\n",
      "Requirement already satisfied: websocket-client>=1.8.0 in c:\\users\\fx516\\desktop\\codes\\datanalist\\datanalist\\lib\\site-packages (from selenium) (1.8.0)\n",
      "Requirement already satisfied: attrs>=23.2.0 in c:\\users\\fx516\\desktop\\codes\\datanalist\\datanalist\\lib\\site-packages (from trio~=0.17->selenium) (23.2.0)\n",
      "Collecting sortedcontainers (from trio~=0.17->selenium)\n",
      "  Downloading sortedcontainers-2.4.0-py2.py3-none-any.whl.metadata (10 kB)\n",
      "Requirement already satisfied: idna in c:\\users\\fx516\\desktop\\codes\\datanalist\\datanalist\\lib\\site-packages (from trio~=0.17->selenium) (3.7)\n",
      "Collecting outcome (from trio~=0.17->selenium)\n",
      "  Downloading outcome-1.3.0.post0-py2.py3-none-any.whl.metadata (2.6 kB)\n",
      "Requirement already satisfied: sniffio>=1.3.0 in c:\\users\\fx516\\desktop\\codes\\datanalist\\datanalist\\lib\\site-packages (from trio~=0.17->selenium) (1.3.1)\n",
      "Requirement already satisfied: cffi>=1.14 in c:\\users\\fx516\\desktop\\codes\\datanalist\\datanalist\\lib\\site-packages (from trio~=0.17->selenium) (1.16.0)\n",
      "Collecting wsproto>=0.14 (from trio-websocket~=0.9->selenium)\n",
      "  Downloading wsproto-1.2.0-py3-none-any.whl.metadata (5.6 kB)\n",
      "Collecting pysocks!=1.5.7,<2.0,>=1.5.6 (from urllib3[socks]<3,>=1.26->selenium)\n",
      "  Downloading PySocks-1.7.1-py3-none-any.whl.metadata (13 kB)\n",
      "Requirement already satisfied: pycparser in c:\\users\\fx516\\desktop\\codes\\datanalist\\datanalist\\lib\\site-packages (from cffi>=1.14->trio~=0.17->selenium) (2.22)\n",
      "Requirement already satisfied: h11<1,>=0.9.0 in c:\\users\\fx516\\desktop\\codes\\datanalist\\datanalist\\lib\\site-packages (from wsproto>=0.14->trio-websocket~=0.9->selenium) (0.14.0)\n",
      "Downloading selenium-4.22.0-py3-none-any.whl (9.4 MB)\n",
      "   ---------------------------------------- 0.0/9.4 MB ? eta -:--:--\n",
      "    --------------------------------------- 0.1/9.4 MB 2.4 MB/s eta 0:00:04\n",
      "   - -------------------------------------- 0.3/9.4 MB 2.6 MB/s eta 0:00:04\n",
      "   - -------------------------------------- 0.4/9.4 MB 2.9 MB/s eta 0:00:04\n",
      "   -- ------------------------------------- 0.6/9.4 MB 2.9 MB/s eta 0:00:04\n",
      "   -- ------------------------------------- 0.7/9.4 MB 2.9 MB/s eta 0:00:04\n",
      "   --- ------------------------------------ 0.8/9.4 MB 3.1 MB/s eta 0:00:03\n",
      "   ---- ----------------------------------- 1.0/9.4 MB 2.9 MB/s eta 0:00:03\n",
      "   ---- ----------------------------------- 1.1/9.4 MB 3.1 MB/s eta 0:00:03\n",
      "   ----- ---------------------------------- 1.3/9.4 MB 3.1 MB/s eta 0:00:03\n",
      "   ----- ---------------------------------- 1.4/9.4 MB 3.1 MB/s eta 0:00:03\n",
      "   ------ --------------------------------- 1.6/9.4 MB 3.1 MB/s eta 0:00:03\n",
      "   ------- -------------------------------- 1.7/9.4 MB 3.0 MB/s eta 0:00:03\n",
      "   ------- -------------------------------- 1.9/9.4 MB 3.0 MB/s eta 0:00:03\n",
      "   -------- ------------------------------- 2.0/9.4 MB 3.0 MB/s eta 0:00:03\n",
      "   -------- ------------------------------- 2.1/9.4 MB 3.1 MB/s eta 0:00:03\n",
      "   --------- ------------------------------ 2.2/9.4 MB 3.0 MB/s eta 0:00:03\n",
      "   ---------- ----------------------------- 2.4/9.4 MB 3.0 MB/s eta 0:00:03\n",
      "   ---------- ----------------------------- 2.5/9.4 MB 3.1 MB/s eta 0:00:03\n",
      "   ----------- ---------------------------- 2.7/9.4 MB 3.1 MB/s eta 0:00:03\n",
      "   ----------- ---------------------------- 2.8/9.4 MB 3.0 MB/s eta 0:00:03\n",
      "   ------------ --------------------------- 3.0/9.4 MB 3.1 MB/s eta 0:00:03\n",
      "   ------------- -------------------------- 3.1/9.4 MB 3.0 MB/s eta 0:00:03\n",
      "   ------------- -------------------------- 3.2/9.4 MB 3.0 MB/s eta 0:00:03\n",
      "   -------------- ------------------------- 3.4/9.4 MB 3.0 MB/s eta 0:00:02\n",
      "   -------------- ------------------------- 3.5/9.4 MB 3.0 MB/s eta 0:00:02\n",
      "   --------------- ------------------------ 3.7/9.4 MB 3.1 MB/s eta 0:00:02\n",
      "   ---------------- ----------------------- 3.8/9.4 MB 3.0 MB/s eta 0:00:02\n",
      "   ---------------- ----------------------- 3.9/9.4 MB 3.0 MB/s eta 0:00:02\n",
      "   ----------------- ---------------------- 4.1/9.4 MB 3.1 MB/s eta 0:00:02\n",
      "   ----------------- ---------------------- 4.2/9.4 MB 3.0 MB/s eta 0:00:02\n",
      "   ------------------ --------------------- 4.4/9.4 MB 3.0 MB/s eta 0:00:02\n",
      "   ------------------- -------------------- 4.5/9.4 MB 3.1 MB/s eta 0:00:02\n",
      "   ------------------- -------------------- 4.7/9.4 MB 3.1 MB/s eta 0:00:02\n",
      "   -------------------- ------------------- 4.8/9.4 MB 3.1 MB/s eta 0:00:02\n",
      "   -------------------- ------------------- 4.9/9.4 MB 3.1 MB/s eta 0:00:02\n",
      "   --------------------- ------------------ 5.1/9.4 MB 3.1 MB/s eta 0:00:02\n",
      "   ---------------------- ----------------- 5.2/9.4 MB 3.1 MB/s eta 0:00:02\n",
      "   ---------------------- ----------------- 5.4/9.4 MB 3.0 MB/s eta 0:00:02\n",
      "   ----------------------- ---------------- 5.5/9.4 MB 3.0 MB/s eta 0:00:02\n",
      "   ----------------------- ---------------- 5.6/9.4 MB 3.1 MB/s eta 0:00:02\n",
      "   ------------------------ --------------- 5.8/9.4 MB 3.1 MB/s eta 0:00:02\n",
      "   ------------------------- -------------- 5.9/9.4 MB 3.1 MB/s eta 0:00:02\n",
      "   ------------------------- -------------- 6.1/9.4 MB 3.1 MB/s eta 0:00:02\n",
      "   -------------------------- ------------- 6.2/9.4 MB 3.0 MB/s eta 0:00:02\n",
      "   -------------------------- ------------- 6.4/9.4 MB 3.1 MB/s eta 0:00:02\n",
      "   --------------------------- ------------ 6.5/9.4 MB 3.0 MB/s eta 0:00:01\n",
      "   ---------------------------- ----------- 6.6/9.4 MB 3.1 MB/s eta 0:00:01\n",
      "   ---------------------------- ----------- 6.8/9.4 MB 3.1 MB/s eta 0:00:01\n",
      "   ----------------------------- ---------- 6.9/9.4 MB 3.0 MB/s eta 0:00:01\n",
      "   ----------------------------- ---------- 7.1/9.4 MB 3.1 MB/s eta 0:00:01\n",
      "   ------------------------------ --------- 7.2/9.4 MB 3.1 MB/s eta 0:00:01\n",
      "   ------------------------------- -------- 7.3/9.4 MB 3.1 MB/s eta 0:00:01\n",
      "   ------------------------------- -------- 7.5/9.4 MB 3.1 MB/s eta 0:00:01\n",
      "   -------------------------------- ------- 7.6/9.4 MB 3.1 MB/s eta 0:00:01\n",
      "   -------------------------------- ------- 7.7/9.4 MB 3.0 MB/s eta 0:00:01\n",
      "   --------------------------------- ------ 7.9/9.4 MB 3.1 MB/s eta 0:00:01\n",
      "   ---------------------------------- ----- 8.0/9.4 MB 3.1 MB/s eta 0:00:01\n",
      "   ---------------------------------- ----- 8.1/9.4 MB 3.0 MB/s eta 0:00:01\n",
      "   ---------------------------------- ----- 8.3/9.4 MB 3.0 MB/s eta 0:00:01\n",
      "   ----------------------------------- ---- 8.4/9.4 MB 3.0 MB/s eta 0:00:01\n",
      "   ------------------------------------ --- 8.6/9.4 MB 3.1 MB/s eta 0:00:01\n",
      "   ------------------------------------ --- 8.7/9.4 MB 3.0 MB/s eta 0:00:01\n",
      "   ------------------------------------- -- 8.8/9.4 MB 3.0 MB/s eta 0:00:01\n",
      "   ------------------------------------- -- 8.9/9.4 MB 3.0 MB/s eta 0:00:01\n",
      "   -------------------------------------- - 9.1/9.4 MB 3.1 MB/s eta 0:00:01\n",
      "   ---------------------------------------  9.2/9.4 MB 3.0 MB/s eta 0:00:01\n",
      "   ---------------------------------------  9.4/9.4 MB 3.0 MB/s eta 0:00:01\n",
      "   ---------------------------------------- 9.4/9.4 MB 3.0 MB/s eta 0:00:00\n",
      "Downloading trio-0.26.0-py3-none-any.whl (475 kB)\n",
      "   ---------------------------------------- 0.0/475.7 kB ? eta -:--:--\n",
      "   --------- ------------------------------ 112.6/475.7 kB 3.2 MB/s eta 0:00:01\n",
      "   ----------------------- ---------------- 276.5/475.7 kB 3.4 MB/s eta 0:00:01\n",
      "   -------------------------------- ------- 389.1/475.7 kB 3.0 MB/s eta 0:00:01\n",
      "   ---------------------------------------- 475.7/475.7 kB 3.0 MB/s eta 0:00:00\n",
      "Downloading trio_websocket-0.11.1-py3-none-any.whl (17 kB)\n",
      "Downloading typing_extensions-4.12.2-py3-none-any.whl (37 kB)\n",
      "Downloading PySocks-1.7.1-py3-none-any.whl (16 kB)\n",
      "Downloading wsproto-1.2.0-py3-none-any.whl (24 kB)\n",
      "Downloading outcome-1.3.0.post0-py2.py3-none-any.whl (10 kB)\n",
      "Downloading sortedcontainers-2.4.0-py2.py3-none-any.whl (29 kB)\n",
      "Installing collected packages: sortedcontainers, wsproto, typing_extensions, pysocks, outcome, trio, trio-websocket, selenium\n",
      "Successfully installed outcome-1.3.0.post0 pysocks-1.7.1 selenium-4.22.0 sortedcontainers-2.4.0 trio-0.26.0 trio-websocket-0.11.1 typing_extensions-4.12.2 wsproto-1.2.0\n"
     ]
    },
    {
     "name": "stderr",
     "output_type": "stream",
     "text": [
      "\n",
      "[notice] A new release of pip is available: 24.0 -> 24.1.2\n",
      "[notice] To update, run: python.exe -m pip install --upgrade pip\n"
     ]
    }
   ],
   "source": [
    "!pip install selenium"
   ]
  },
  {
   "cell_type": "code",
   "execution_count": 49,
   "metadata": {},
   "outputs": [],
   "source": [
    "dict1 = {\n",
    "    \"id\": 820022, \n",
    "    \"name\": \"Share of new cars that are electric\", \n",
    "    \"unit\": \"%\", \n",
    "    \"description\": \"The share of new cars sold that are electric. This includes plug-in hybrids and battery-electric cars.\", \n",
    "    \"createdAt\": \"2024-02-06T11:43:15.000Z\", \n",
    "    \"updatedAt\": \"2024-07-08T17:03:03.000Z\", \n",
    "    \"coverage\": \"\", \n",
    "    \"timespan\": \"2010-2023\",\n",
    "    \"datasetId\": 6376, \n",
    "    \"shortUnit\": \"%\", \n",
    "    \"columnOrder\": 0, \n",
    "    \"shortName\": \"ev_sales_share\", \n",
    "    \"catalogPath\": \"grapher/fasttrack/latest/electric_cars_iea/electric_cars_iea#ev_sales_share\", \n",
    "    \"type\": \"float\", \n",
    "    \"datasetName\": \"Electric car sales (IEA, 2024)\", \n",
    "    \"datasetVersion\": \"latest\", \n",
    "    \"nonRedistributable\": False, \n",
    "    \"display\": {\"unit\": \"%\", \"shortUnit\": \"%\"}, \n",
    "    \"schemaVersion\": 2, \n",
    "    \"presentation\": {\n",
    "        \"topicTagsLinks\": [], \n",
    "        \"faqs\": []\n",
    "        }, \n",
    "    \"descriptionKey\": [], \n",
    "    \"dimensions\": {\n",
    "        \"years\": {\"values\": [{\"id\": 2010}, {\"id\": 2011}, {\"id\": 2012}, {\"id\": 2013}, {\"id\": 2014}, {\"id\": 2015}, {\"id\": 2016}, {\"id\": 2017}, {\"id\": 2018}, {\"id\": 2019}, {\"id\": 2020}, {\"id\": 2021}, {\"id\": 2022}, {\"id\": 2023}]}, \n",
    "        \"entities\": {\"values\": [{\"id\": 1, \"name\": \"United Kingdom\", \"code\": \"GBR\"}, {\"id\": 3, \"name\": \"France\", \"code\": \"FRA\"}, {\"id\": 4, \"name\": \"Belgium\", \"code\": \"BEL\"}, {\"id\": 5, \"name\": \"Netherlands\", \"code\": \"NLD\"}, {\"id\": 6, \"name\": \"Germany\", \"code\": \"DEU\"}, {\"id\": 8, \"name\": \"Italy\", \"code\": \"ITA\"}, {\"id\": 9, \"name\": \"Spain\", \"code\": \"ESP\"}, {\"id\": 10, \"name\": \"Sweden\", \"code\": \"SWE\"}, {\"id\": 11, \"name\": \"Poland\", \"code\": \"POL\"}, {\"id\": 13, \"name\": \"United States\", \"code\": \"USA\"}, {\"id\": 14, \"name\": \"Japan\", \"code\": \"JPN\"}, {\"id\": 37, \"name\": \"Brazil\", \"code\": \"BRA\"}, {\"id\": 95, \"name\": \"Portugal\", \"code\": \"PRT\"}, {\"id\": 102, \"name\": \"Norway\", \"code\": \"NOR\"}, {\"id\": 106, \"name\": \"New Zealand\", \"code\": \"NZL\"}, {\"id\": 127, \"name\": \"South Korea\", \"code\": \"KOR\"}, {\"id\": 137, \"name\": \"India\", \"code\": \"IND\"}, {\"id\": 171, \"name\": \"China\", \"code\": \"CHN\"}, {\"id\": 276, \"name\": \"Europe\", \"code\": None}, {\"id\": 355, \"name\": \"World\", \"code\": \"OWID_WRL\"}, {\"id\": 115117, \"name\": \"European Union (27)\", \"code\": None}, {\"id\": 7, \"name\": \"Switzerland\", \"code\": \"CHE\"}, {\"id\": 23, \"name\": \"Australia\", \"code\": \"AUS\"}, {\"id\": 44, \"name\": \"Canada\", \"code\": \"CAN\"}, {\"id\": 113, \"name\": \"Mexico\", \"code\": \"MEX\"}, {\"id\": 133, \"name\": \"Israel\", \"code\": \"ISR\"}, {\"id\": 155, \"name\": \"Finland\", \"code\": \"FIN\"}, {\"id\": 161, \"name\": \"Denmark\", \"code\": \"DNK\"}, {\"id\": 172, \"name\": \"Chile\", \"code\": \"CHL\"}, {\"id\": 35441, \"name\": \"Rest of World\", \"code\": None}, {\"id\": 70, \"name\": \"Turkey\", \"code\": \"TUR\"}, {\"id\": 207, \"name\": \"Iceland\", \"code\": \"ISL\"}, {\"id\": 24, \"name\": \"Austria\", \"code\": \"AUT\"}, {\"id\": 81, \"name\": \"South Africa\", \"code\": \"ZAF\"}, {\"id\": 149, \"name\": \"Greece\", \"code\": \"GRC\"}]}}, \"origins\": [{\"id\": 664, \"title\": \"electric_cars_iea\", \"producer\": \"International Energy Agency. Global EV Outlook 2024.\", \"citationFull\": \"IEA (2024), Global EV Outlook 2024, IEA, Paris https://www.iea.org/reports/global-ev-outlook-2024, License: CC BY 4.0\", \"urlMain\": \"https://www.iea.org/reports/global-ev-outlook-2023\", \"urlDownload\": \"https://docs.google.com/spreadsheets/d/e/2PACX-1vRDQ1EYuQPZasmbfjaghH9f65Nd2yLkQ0QAnOP5bp0LHWkwnjVcwssk6VFDhmWPOzjw2gCFyOqXBTQU/pub?output=csv\", \"dateAccessed\": \"2024-04-23\"}]}\n",
    "\n",
    "\n",
    "dict2 = {\n",
    "    \"values\": [0.013, 0.012, 0.01, 0.025, 0.0049, 0.002, 0.0077, 0.0013, 0.0048, 0.012, 0.053, 0.00035, 0.0058, 0.28, 0.0063, 0.005, 0.021, 0.01, 0.012, 0.011, 0.01, 0.062, 0.12, 0.052, 0.16, 0.052, 0.14, 0.0065, 0.049, 0.054, 0.014, 0.15, 0.29, 0.0065, 0.00028, 0.041, 0.11, 1.4, 0.0099, 0.00026, 0.023, 0.0013, 0.056, 0.025, 0.25, 0.034, 0.0024, 0.074, 0.068, 0.00032, 0.065, 0.13, 0.33, 0.19, 1, 0.11, 0.23, 0.033, 0.076, 0.31, 0.017, 0.42, 0.45, 0.03, 0.0013, 0.14, 0.016, 0.088, 3.1, 0.017, 0.0077, 0.041, 0.27, 0.0072, 0.17, 0.29, 0.073, 0.002, 0.33, 0.2, 0.16, 0.0036, 0.19, 0.16, 0.53, 0.12, 5.5, 0.23, 0.43, 0.08, 0.12, 0.53, 0.013, 0.71, 0.54, 0.034, 0.2, 0.0024, 0.22, 0.00012, 0.0075, 0.17, 5.8, 0.019, 0.00089, 0.049, 0.21, 0.016, 0.0051, 0.21, 0.28, 0.095, 0.0019, 1.4, 0.42, 0.27, 0.0017, 0.47, 0.59, 0.69, 0.41, 3.9, 0.45, 0.96, 0.1, 0.2, 1.4, 0.062, 0.77, 0.61, 0.16, 0.57, 0.0022, 0.35, 0.012, 0.0034, 0.2, 15, 0.14, 0.0038, 0.093, 0.022, 0.038, 0.055, 0.41, 0.9, 0.4, 0.0071, 2.4, 0.66, 0.41, 0.0043, 0.56, 1.1, 1.2, 0.77, 9.5, 0.73, 1.7, 0.14, 0.2, 2.4, 0.061, 0.7, 0.52, 0.2, 0.9, 0.0042, 0.45, 0.031, 0.058, 0.62, 22, 0.3, 0.008, 0.22, 0.024, 0.017, 0.078, 0.6, 2.3, 1, 0.017, 3.9, 1.2, 0.68, 0.038, 1.1, 1.4, 1.4, 1.7, 5.8, 0.74, 1.9, 0.15, 0.31, 3.4, 0.12, 0.99, 0.51, 0.15, 1.5, 0.011, 0.76, 0.013, 0.1, 0.87, 29, 0.78, 0.053, 0.33, 0.022, 0.026, 0.12, 1.2, 0.85, 1.5, 0.013, 6.3, 1.2, 0.9, 0.016, 0.98, 1.9, 1.7, 2.6, 1.8, 1.6, 2.7, 0.25, 0.6, 5.1, 0.22, 1.3, 1.2, 0.26, 2, 0.023, 1, 0.011, 0.053, 2, 39, 1.4, 0.086, 0.95, 0.52, 0.031, 0.22, 2.6, 0.6, 2.4, 0.061, 14, 1.7, 1.4, 0.023, 1.3, 2.6, 2, 2.4, 4.7, 2, 3.2, 0.51, 0.88, 7.6, 0.26, 2.3, 1.1, 0.42, 2.6, 0.02, 2.8, 0.044, 0.041, 3.6, 49, 2.1, 0.14, 3.8, 1.2, 0.03, 0.29, 4.7, 2.1, 4.7, 0.07, 20, 2.3, 2.4, 0.037, 1.9, 3.3, 2.7, 3.2, 11, 3, 5.6, 0.9, 1.4, 11, 0.49, 2.1, 0.86, 1.2, 3.5, 0.086, 3.4, 0.067, 0.064, 5.6, 56, 2.3, 0.14, 2.3, 1.6, 0.024, 0.42, 6.9, 4.2, 5, 0.14, 26, 3.3, 2.6, 0.082, 2.9, 11, 11, 11, 16, 14, 14, 4.3, 4.9, 32, 1.9, 2.3, 0.75, 1.1, 9.5, 0.16, 4.2, 0.17, 0.098, 13, 75, 1.6, 0.45, 2.4, 2.6, 0.12, 2.6, 18, 16, 5.7, 0.16, 52, 10, 4.2, 0.18, 10, 19, 17, 18, 19, 26, 23, 9.5, 7.8, 43, 3.6, 4.7, 1.2, 2.8, 20, 0.9, 6.4, 0.55, 0.088, 20, 86, 3.4, 0.72, 5.8, 6.9, 0.35, 6.9, 31, 35, 16, 0.19, 70, 17, 8.9, 0.28, 17, 23, 20, 26, 26, 31, 26, 8.6, 8.9, 54, 6, 7.4, 2.8, 5.1, 22, 1.2, 9.5, 1.1, 0.17, 22, 89, 11, 0.89, 8.5, 12, 1.2, 7.9, 38, 39, 29, 0.5, 69, 20, 14, 0.67, 21, 24, 25, 41, 35, 24, 30, 9.2, 12, 60, 6.6, 9.5, 3.6, 12, 26, 3, 13, 10, 0.29, 32, 93, 14, 1.3, 7.9, 19, 2, 14, 54, 46, 38, 0.31, 71, 21, 18, 1.5, 22], \n",
    "    \"years\": [2010, 2010, 2010, 2010, 2010, 2010, 2010, 2010, 2010, 2010, 2010, 2010, 2010, 2010, 2010, 2010, 2010, 2010, 2010, 2010, 2010, 2011, 2011, 2011, 2011, 2011, 2011, 2011, 2011, 2011, 2011, 2011, 2011, 2011, 2011, 2011, 2011, 2011, 2011, 2011, 2011, 2011, 2011, 2011, 2011, 2011, 2011, 2011, 2011, 2011, 2011, 2012, 2012, 2012, 2012, 2012, 2012, 2012, 2012, 2012, 2012, 2012, 2012, 2012, 2012, 2012, 2012, 2012, 2012, 2012, 2012, 2012, 2012, 2012, 2012, 2012, 2012, 2012, 2012, 2012, 2012, 2012, 2012, 2013, 2013, 2013, 2013, 2013, 2013, 2013, 2013, 2013, 2013, 2013, 2013, 2013, 2013, 2013, 2013, 2013, 2013, 2013, 2013, 2013, 2013, 2013, 2013, 2013, 2013, 2013, 2013, 2013, 2013, 2013, 2013, 2013, 2013, 2013, 2014, 2014, 2014, 2014, 2014, 2014, 2014, 2014, 2014, 2014, 2014, 2014, 2014, 2014, 2014, 2014, 2014, 2014, 2014, 2014, 2014, 2014, 2014, 2014, 2014, 2014, 2014, 2014, 2014, 2014, 2014, 2014, 2014, 2014, 2014, 2015, 2015, 2015, 2015, 2015, 2015, 2015, 2015, 2015, 2015, 2015, 2015, 2015, 2015, 2015, 2015, 2015, 2015, 2015, 2015, 2015, 2015, 2015, 2015, 2015, 2015, 2015, 2015, 2015, 2015, 2015, 2015, 2015, 2015, 2015, 2016, 2016, 2016, 2016, 2016, 2016, 2016, 2016, 2016, 2016, 2016, 2016, 2016, 2016, 2016, 2016, 2016, 2016, 2016, 2016, 2016, 2016, 2016, 2016, 2016, 2016, 2016, 2016, 2016, 2016, 2016, 2016, 2016, 2016, 2016, 2017, 2017, 2017, 2017, 2017, 2017, 2017, 2017, 2017, 2017, 2017, 2017, 2017, 2017, 2017, 2017, 2017, 2017, 2017, 2017, 2017, 2017, 2017, 2017, 2017, 2017, 2017, 2017, 2017, 2017, 2017, 2017, 2017, 2017, 2017, 2018, 2018, 2018, 2018, 2018, 2018, 2018, 2018, 2018, 2018, 2018, 2018, 2018, 2018, 2018, 2018, 2018, 2018, 2018, 2018, 2018, 2018, 2018, 2018, 2018, 2018, 2018, 2018, 2018, 2018, 2018, 2018, 2018, 2018, 2018, 2019, 2019, 2019, 2019, 2019, 2019, 2019, 2019, 2019, 2019, 2019, 2019, 2019, 2019, 2019, 2019, 2019, 2019, 2019, 2019, 2019, 2019, 2019, 2019, 2019, 2019, 2019, 2019, 2019, 2019, 2019, 2019, 2019, 2019, 2019, 2020, 2020, 2020, 2020, 2020, 2020, 2020, 2020, 2020, 2020, 2020, 2020, 2020, 2020, 2020, 2020, 2020, 2020, 2020, 2020, 2020, 2020, 2020, 2020, 2020, 2020, 2020, 2020, 2020, 2020, 2020, 2020, 2020, 2020, 2020, 2021, 2021, 2021, 2021, 2021, 2021, 2021, 2021, 2021, 2021, 2021, 2021, 2021, 2021, 2021, 2021, 2021, 2021, 2021, 2021, 2021, 2021, 2021, 2021, 2021, 2021, 2021, 2021, 2021, 2021, 2021, 2021, 2021, 2021, 2021, 2022, 2022, 2022, 2022, 2022, 2022, 2022, 2022, 2022, 2022, 2022, 2022, 2022, 2022, 2022, 2022, 2022, 2022, 2022, 2022, 2022, 2022, 2022, 2022, 2022, 2022, 2022, 2022, 2022, 2022, 2022, 2022, 2022, 2022, 2022, 2023, 2023, 2023, 2023, 2023, 2023, 2023, 2023, 2023, 2023, 2023, 2023, 2023, 2023, 2023, 2023, 2023, 2023, 2023, 2023, 2023, 2023, 2023, 2023, 2023, 2023, 2023, 2023, 2023, 2023, 2023, 2023, 2023, 2023, 2023], \n",
    "    \"entities\": [1, 3, 4, 5, 6, 8, 9, 10, 11, 13, 14, 37, 95, 102, 106, 127, 137, 171, 276, 355, 115117, 1, 3, 4, 5, 6, 7, 8, 9, 10, 11, 13, 14, 23, 37, 44, 95, 102, 106, 113, 127, 133, 137, 155, 161, 171, 172, 276, 355, 35441, 115117, 1, 3, 4, 5, 6, 7, 8, 9, 10, 11, 13, 14, 23, 37, 44, 70, 95, 102, 106, 113, 127, 133, 137, 155, 161, 171, 172, 207, 276, 355, 35441, 115117, 1, 3, 4, 5, 6, 7, 8, 9, 10, 11, 13, 14, 23, 24, 37, 44, 70, 81, 95, 102, 106, 113, 127, 133, 137, 149, 155, 161, 171, 172, 207, 276, 355, 35441, 115117, 1, 3, 4, 5, 6, 7, 8, 9, 10, 11, 13, 14, 23, 24, 37, 44, 70, 81, 95, 102, 106, 113, 127, 133, 137, 149, 155, 161, 171, 172, 207, 276, 355, 35441, 115117, 1, 3, 4, 5, 6, 7, 8, 9, 10, 11, 13, 14, 23, 24, 37, 44, 70, 81, 95, 102, 106, 113, 127, 133, 137, 149, 155, 161, 171, 172, 207, 276, 355, 35441, 115117, 1, 3, 4, 5, 6, 7, 8, 9, 10, 11, 13, 14, 23, 24, 37, 44, 70, 81, 95, 102, 106, 113, 127, 133, 137, 149, 155, 161, 171, 172, 207, 276, 355, 35441, 115117, 1, 3, 4, 5, 6, 7, 8, 9, 10, 11, 13, 14, 23, 24, 37, 44, 70, 81, 95, 102, 106, 113, 127, 133, 137, 149, 155, 161, 171, 172, 207, 276, 355, 35441, 115117, 1, 3, 4, 5, 6, 7, 8, 9, 10, 11, 13, 14, 23, 24, 37, 44, 70, 81, 95, 102, 106, 113, 127, 133, 137, 149, 155, 161, 171, 172, 207, 276, 355, 35441, 115117, 1, 3, 4, 5, 6, 7, 8, 9, 10, 11, 13, 14, 23, 24, 37, 44, 70, 81, 95, 102, 106, 113, 127, 133, 137, 149, 155, 161, 171, 172, 207, 276, 355, 35441, 115117, 1, 3, 4, 5, 6, 7, 8, 9, 10, 11, 13, 14, 23, 24, 37, 44, 70, 81, 95, 102, 106, 113, 127, 133, 137, 149, 155, 161, 171, 172, 207, 276, 355, 35441, 115117, 1, 3, 4, 5, 6, 7, 8, 9, 10, 11, 13, 14, 23, 24, 37, 44, 70, 81, 95, 102, 106, 113, 127, 133, 137, 149, 155, 161, 171, 172, 207, 276, 355, 35441, 115117, 1, 3, 4, 5, 6, 7, 8, 9, 10, 11, 13, 14, 23, 24, 37, 44, 70, 81, 95, 102, 106, 113, 127, 133, 137, 149, 155, 161, 171, 172, 207, 276, 355, 35441, 115117, 1, 3, 4, 5, 6, 7, 8, 9, 10, 11, 13, 14, 23, 24, 37, 44, 70, 81, 95, 102, 106, 113, 127, 133, 137, 149, 155, 161, 171, 172, 207, 276, 355, 35441, 115117]\n",
    "    }"
   ]
  },
  {
   "cell_type": "code",
   "execution_count": 56,
   "metadata": {},
   "outputs": [
    {
     "data": {
      "text/plain": [
       "{1: {'name': 'United Kingdom', 'code': 'GBR'},\n",
       " 3: {'name': 'France', 'code': 'FRA'},\n",
       " 4: {'name': 'Belgium', 'code': 'BEL'},\n",
       " 5: {'name': 'Netherlands', 'code': 'NLD'},\n",
       " 6: {'name': 'Germany', 'code': 'DEU'},\n",
       " 8: {'name': 'Italy', 'code': 'ITA'},\n",
       " 9: {'name': 'Spain', 'code': 'ESP'},\n",
       " 10: {'name': 'Sweden', 'code': 'SWE'},\n",
       " 11: {'name': 'Poland', 'code': 'POL'},\n",
       " 13: {'name': 'United States', 'code': 'USA'},\n",
       " 14: {'name': 'Japan', 'code': 'JPN'},\n",
       " 37: {'name': 'Brazil', 'code': 'BRA'},\n",
       " 95: {'name': 'Portugal', 'code': 'PRT'},\n",
       " 102: {'name': 'Norway', 'code': 'NOR'},\n",
       " 106: {'name': 'New Zealand', 'code': 'NZL'},\n",
       " 127: {'name': 'South Korea', 'code': 'KOR'},\n",
       " 137: {'name': 'India', 'code': 'IND'},\n",
       " 171: {'name': 'China', 'code': 'CHN'},\n",
       " 276: {'name': 'Europe', 'code': None},\n",
       " 355: {'name': 'World', 'code': 'OWID_WRL'},\n",
       " 115117: {'name': 'European Union (27)', 'code': None},\n",
       " 7: {'name': 'Switzerland', 'code': 'CHE'},\n",
       " 23: {'name': 'Australia', 'code': 'AUS'},\n",
       " 44: {'name': 'Canada', 'code': 'CAN'},\n",
       " 113: {'name': 'Mexico', 'code': 'MEX'},\n",
       " 133: {'name': 'Israel', 'code': 'ISR'},\n",
       " 155: {'name': 'Finland', 'code': 'FIN'},\n",
       " 161: {'name': 'Denmark', 'code': 'DNK'},\n",
       " 172: {'name': 'Chile', 'code': 'CHL'},\n",
       " 35441: {'name': 'Rest of World', 'code': None},\n",
       " 70: {'name': 'Turkey', 'code': 'TUR'},\n",
       " 207: {'name': 'Iceland', 'code': 'ISL'},\n",
       " 24: {'name': 'Austria', 'code': 'AUT'},\n",
       " 81: {'name': 'South Africa', 'code': 'ZAF'},\n",
       " 149: {'name': 'Greece', 'code': 'GRC'}}"
      ]
     },
     "execution_count": 56,
     "metadata": {},
     "output_type": "execute_result"
    }
   ],
   "source": [
    "paises = {country['id'] : {'name' : country['name'], 'code' : country['code']} for country in dict1['dimensions']['entities']['values']}\n",
    "paises\n"
   ]
  },
  {
   "cell_type": "code",
   "execution_count": 63,
   "metadata": {},
   "outputs": [],
   "source": [
    "dataframe = []\n",
    "for i in range(len(dict2['values'])):\n",
    "    country = paises.get(dict2['entities'][i])['name']\n",
    "    year = dict2['years'][i]\n",
    "    value = dict2['values'][i]\n",
    "    dataframe.append([country, year, value])"
   ]
  },
  {
   "cell_type": "code",
   "execution_count": 65,
   "metadata": {},
   "outputs": [],
   "source": [
    "df = pd.DataFrame(dataframe)\n",
    "df.to_csv('ev_sale_shares.csv')"
   ]
  },
  {
   "cell_type": "code",
   "execution_count": null,
   "metadata": {},
   "outputs": [],
   "source": []
  }
 ],
 "metadata": {
  "kernelspec": {
   "display_name": "DatAnalist",
   "language": "python",
   "name": "python3"
  },
  "language_info": {
   "codemirror_mode": {
    "name": "ipython",
    "version": 3
   },
   "file_extension": ".py",
   "mimetype": "text/x-python",
   "name": "python",
   "nbconvert_exporter": "python",
   "pygments_lexer": "ipython3",
   "version": "3.12.2"
  }
 },
 "nbformat": 4,
 "nbformat_minor": 2
}
