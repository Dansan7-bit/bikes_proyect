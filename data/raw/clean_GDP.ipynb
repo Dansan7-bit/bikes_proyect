{
 "cells": [
  {
   "cell_type": "code",
   "execution_count": 1,
   "metadata": {},
   "outputs": [
    {
     "name": "stdout",
     "output_type": "stream",
     "text": [
      "\n",
      "(nan, nan)\n",
      "\n"
     ]
    }
   ],
   "source": [
    "import numpy as np\n",
    "import pandas as pd\n",
    "\n",
    "from src.get_GDP import get_GDP\n",
    "\n",
    "year, value = get_GDP('AIA')"
   ]
  },
  {
   "cell_type": "code",
   "execution_count": 2,
   "metadata": {},
   "outputs": [],
   "source": [
    "df = pd.read_csv('clean_C02_country.csv')\n",
    "iso_codes = df['iso_code'].unique()"
   ]
  },
  {
   "cell_type": "code",
   "execution_count": null,
   "metadata": {},
   "outputs": [],
   "source": [
    "country_C02_list = []\n",
    "for iso_code in iso_codes:\n",
    "    year, c02 = get_GDP(iso_code)\n",
    "    if isinstance(year, list):\n",
    "        for year, c02 in zip(year, c02):\n",
    "            country_C02_list.append([iso_code, year, c02])"
   ]
  },
  {
   "cell_type": "code",
   "execution_count": null,
   "metadata": {},
   "outputs": [],
   "source": [
    "df = pd.DataFrame(country_C02_list)\n",
    "df.rename(columns={0 : 'iso_code',1:'year',2:'GDP'}, inplace=True)"
   ]
  },
  {
   "cell_type": "code",
   "execution_count": 24,
   "metadata": {},
   "outputs": [],
   "source": [
    "df.to_csv('data/cleaned/iso_year_GDP.csv')"
   ]
  }
 ],
 "metadata": {
  "kernelspec": {
   "display_name": "DatAnalist",
   "language": "python",
   "name": "python3"
  },
  "language_info": {
   "codemirror_mode": {
    "name": "ipython",
    "version": 3
   },
   "file_extension": ".py",
   "mimetype": "text/x-python",
   "name": "python",
   "nbconvert_exporter": "python",
   "pygments_lexer": "ipython3",
   "version": "3.12.2"
  }
 },
 "nbformat": 4,
 "nbformat_minor": 2
}
