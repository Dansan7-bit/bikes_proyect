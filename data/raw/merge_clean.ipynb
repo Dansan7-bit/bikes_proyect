{
 "cells": [
  {
   "cell_type": "code",
   "execution_count": 29,
   "metadata": {},
   "outputs": [],
   "source": [
    "import pandas as pd\n",
    "import numpy as np\n",
    "\n",
    "df1 = pd.read_csv('C02_per_country_year.csv')\n",
    "df2 = pd.read_csv('ev_sale_shares.csv')\n",
    "df3 = pd.read_csv('iso_year_GDP.csv')\n",
    "df1.dropna(subset=['iso_code'], inplace=True)\n",
    "df1.dropna(axis=0, subset=['C02'], inplace=True)\n",
    "df1.dropna(axis=0, subset=['population'], inplace=True)\n",
    "df1.drop(columns=['Unnamed: 0'], inplace=True)\n",
    "df2.drop(columns=['Unnamed: 0'], inplace=True)\n",
    "df3.drop(columns=['Unnamed: 0'], inplace=True)\n",
    "df13 = pd.merge(df1,df3, on=['iso_code','year'], how='left')\n",
    "df123 = pd.merge(df13, df2, on=['country','year'], how='left')\n",
    "df123.to_csv('../cleaned/data.csv', index=False)"
   ]
  }
 ],
 "metadata": {
  "kernelspec": {
   "display_name": "DatAnalist",
   "language": "python",
   "name": "python3"
  },
  "language_info": {
   "codemirror_mode": {
    "name": "ipython",
    "version": 3
   },
   "file_extension": ".py",
   "mimetype": "text/x-python",
   "name": "python",
   "nbconvert_exporter": "python",
   "pygments_lexer": "ipython3",
   "version": "3.12.2"
  }
 },
 "nbformat": 4,
 "nbformat_minor": 2
}
